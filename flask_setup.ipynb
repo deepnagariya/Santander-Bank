{
 "cells": [
  {
   "cell_type": "code",
   "execution_count": 4,
   "metadata": {},
   "outputs": [
    {
     "name": "stdout",
     "output_type": "stream",
     "text": [
      " * Serving Flask app \"_name_\" (lazy loading)\n",
      " * Environment: production\n",
      "   WARNING: This is a development server. Do not use it in a production deployment.\n",
      "   Use a production WSGI server instead.\n",
      " * Debug mode: off\n"
     ]
    },
    {
     "name": "stderr",
     "output_type": "stream",
     "text": [
      " * Running on http://127.0.0.1:5000/ (Press CTRL+C to quit)\n"
     ]
    }
   ],
   "source": [
    "#pip install \"flask\"\n",
    "#pip install \"flask-cors\"\n",
    "import pickle \n",
    "import json \n",
    "import os \n",
    "\n",
    "from flask import Flask,jsonify, request \n",
    "from flask_cors import CORS \n",
    "import lightgbm as lgb \n",
    "\n",
    "app=Flask('_name_') \n",
    "CORS(app) \n",
    "\n",
    "@app.route(\"/lgbm_pred/\",methods=['GET']) \n",
    "\n",
    "def return_lgbm_pred(): \n",
    "    X_test= requests.args.get('test_data') \n",
    "    lgbm_pred=lgbm.predict(X_test) \n",
    "    pred_dict={ \"model\":\"lgbm\",\"pred\":\"lgbm_pred\" } \n",
    "    return jsonify(pred_dict) \n",
    "@app.route(\"/\",methods=['GET']) \n",
    "\n",
    "def default(): \n",
    "    return (\"<h> Welcome to Santander customer transaction predictor <h>\")\n",
    "    \n",
    "if __name__==\"__main__\": \n",
    "    app.run()\n"
   ]
  },
  {
   "cell_type": "code",
   "execution_count": null,
   "metadata": {},
   "outputs": [],
   "source": []
  },
  {
   "cell_type": "code",
   "execution_count": null,
   "metadata": {},
   "outputs": [],
   "source": []
  },
  {
   "cell_type": "code",
   "execution_count": null,
   "metadata": {},
   "outputs": [],
   "source": []
  }
 ],
 "metadata": {
  "kernelspec": {
   "display_name": "Python 3",
   "language": "python",
   "name": "python3"
  },
  "language_info": {
   "codemirror_mode": {
    "name": "ipython",
    "version": 3
   },
   "file_extension": ".py",
   "mimetype": "text/x-python",
   "name": "python",
   "nbconvert_exporter": "python",
   "pygments_lexer": "ipython3",
   "version": "3.7.4"
  }
 },
 "nbformat": 4,
 "nbformat_minor": 2
}
